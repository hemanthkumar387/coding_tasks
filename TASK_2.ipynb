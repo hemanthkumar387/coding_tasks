{
  "nbformat": 4,
  "nbformat_minor": 0,
  "metadata": {
    "colab": {
      "provenance": [],
      "authorship_tag": "ABX9TyMelEqV+mdAaInEDmsFyVX3",
      "include_colab_link": true
    },
    "kernelspec": {
      "name": "python3",
      "display_name": "Python 3"
    },
    "language_info": {
      "name": "python"
    }
  },
  "cells": [
    {
      "cell_type": "markdown",
      "metadata": {
        "id": "view-in-github",
        "colab_type": "text"
      },
      "source": [
        "<a href=\"https://colab.research.google.com/github/hemanthkumar387/coding_tasks/blob/main/TASK_2.ipynb\" target=\"_parent\"><img src=\"https://colab.research.google.com/assets/colab-badge.svg\" alt=\"Open In Colab\"/></a>"
      ]
    },
    {
      "cell_type": "markdown",
      "source": [
        "**Problem Statement:**"
      ],
      "metadata": {
        "id": "qGl7bBqXSXtN"
      }
    },
    {
      "cell_type": "markdown",
      "source": [
        "Problem Description :\n",
        "The Binary number system only uses two digits, 0 and 1 and number system can be called binary string. You are required to implement the following function:\n",
        "\n",
        "int OperationsBinaryString(char* str);\n",
        "\n",
        "The function accepts a string str as its argument. The string str consists of binary digits eparated with an alphabet as follows:\n",
        "– A denotes AND operation\n",
        "– B denotes OR operation\n",
        "– C denotes XOR Operation\n",
        "You are required to calculate the result of the string str, scanning the string to right taking one opearation at a time, and return the same.\n",
        "\n",
        "Note:\n",
        "No order of priorities of operations is required\n",
        "Length of str is odd\n",
        "If str is NULL or None (in case of Python), return -1\n",
        "\n",
        "Input:\n",
        "str: 1C0C1C1A0B1\n",
        "\n",
        "Output:\n",
        "1\n",
        "\n",
        "Explanation:\n",
        "The alphabets in str when expanded becomes “1 XOR 0 XOR 1 XOR 1 AND 0 OR 1”, result of the expression becomes 1, hence 1 is returned.\n",
        "\n",
        "Sample Input:\n",
        "0C1A1B1C1C1B0A0\n",
        "\n",
        "Output:\n",
        "0"
      ],
      "metadata": {
        "id": "w3W-g8M7SV91"
      }
    },
    {
      "cell_type": "markdown",
      "source": [
        "**Solution :**"
      ],
      "metadata": {
        "id": "hgxTmx0gSfRH"
      }
    },
    {
      "cell_type": "code",
      "source": [
        "a = input()\n",
        "if len(a)==0:\n",
        "    print(-1)\n",
        "else:\n",
        "  for i in range(1, len(a), 2):\n",
        "      initial = int(a[0])\n",
        "      str = a[i]\n",
        "      bin_no = int(a[i+1])\n",
        "\n",
        "      if str == 'A':\n",
        "          initial = initial & bin_no\n",
        "      elif str == 'B':\n",
        "          initial = initial | bin_no\n",
        "      elif str == 'C':\n",
        "          initial = initial ^ bin_no\n",
        "\n",
        "  print(initial)"
      ],
      "metadata": {
        "colab": {
          "base_uri": "https://localhost:8080/"
        },
        "id": "n6FqfJiVF1W5",
        "outputId": "55996254-691d-4502-a33d-3c309e947389"
      },
      "execution_count": null,
      "outputs": [
        {
          "output_type": "stream",
          "name": "stdout",
          "text": [
            "1A0A0B1C1B0\n",
            "1\n"
          ]
        }
      ]
    }
  ]
}