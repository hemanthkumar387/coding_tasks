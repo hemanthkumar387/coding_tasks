{
  "nbformat": 4,
  "nbformat_minor": 0,
  "metadata": {
    "colab": {
      "provenance": [],
      "authorship_tag": "ABX9TyNIl+u05PjUM6Dn/xzvcmGR",
      "include_colab_link": true
    },
    "kernelspec": {
      "name": "python3",
      "display_name": "Python 3"
    },
    "language_info": {
      "name": "python"
    }
  },
  "cells": [
    {
      "cell_type": "markdown",
      "metadata": {
        "id": "view-in-github",
        "colab_type": "text"
      },
      "source": [
        "<a href=\"https://colab.research.google.com/github/hemanthkumar387/coding_tasks/blob/main/Task_4.ipynb\" target=\"_parent\"><img src=\"https://colab.research.google.com/assets/colab-badge.svg\" alt=\"Open In Colab\"/></a>"
      ]
    },
    {
      "cell_type": "markdown",
      "source": [
        "**Problem statement**"
      ],
      "metadata": {
        "id": "0BoqRJDbj0Vd"
      }
    },
    {
      "cell_type": "markdown",
      "source": [
        "int findCount(int arr[], int length, int num, int diff);\n",
        "The function accepts an integer array ‘arr’, its length and two integer variables ‘num’ and ‘diff’. Implement this function to find and return the number of elements of ‘arr’ having an absolute difference of less than or equal to ‘diff’ with ‘num’.\n",
        "Note: In case there is no element in ‘arr’ whose absolute difference with ‘num’ is less than or equal to ‘diff’, return -1.\n",
        "arr: 12 3 14 56 77 13\n",
        "num: 13\n",
        "diff: 2\n",
        "\n",
        "3\n",
        "\n",
        "Elements of ‘arr’ having absolute difference of less than or equal to ‘diff’ i.e. 2 with ‘num’ i.e. 13 are 12, 13 and 14."
      ],
      "metadata": {
        "id": "tAD3hRoijxUX"
      }
    },
    {
      "cell_type": "markdown",
      "source": [
        "**Solution**"
      ],
      "metadata": {
        "id": "lDN_WYm-kGA-"
      }
    },
    {
      "cell_type": "code",
      "execution_count": null,
      "metadata": {
        "colab": {
          "base_uri": "https://localhost:8080/"
        },
        "id": "19dVq7AOABHM",
        "outputId": "71bb88aa-c159-462f-8d99-e666a73be8d3"
      },
      "outputs": [
        {
          "output_type": "stream",
          "name": "stdout",
          "text": [
            "12 3 14 56 77 13\n",
            "13\n",
            "2\n",
            "3\n"
          ]
        }
      ],
      "source": [
        "array=list(map(int,input().split()))\n",
        "num = int(input())\n",
        "diff = int(input())\n",
        "\n",
        "elements=0\n",
        "for i in range(len(array)):\n",
        "  if abs(array[i]-num)<=diff:\n",
        "    elements+=1\n",
        "if elements==0:\n",
        "  print(-1)\n",
        "else:\n",
        "  print(elements)"
      ]
    }
  ]
}