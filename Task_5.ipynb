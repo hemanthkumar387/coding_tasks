{
  "nbformat": 4,
  "nbformat_minor": 0,
  "metadata": {
    "colab": {
      "provenance": [],
      "authorship_tag": "ABX9TyO2EdHtf+fMYbiOI8hz78D+",
      "include_colab_link": true
    },
    "kernelspec": {
      "name": "python3",
      "display_name": "Python 3"
    },
    "language_info": {
      "name": "python"
    }
  },
  "cells": [
    {
      "cell_type": "markdown",
      "metadata": {
        "id": "view-in-github",
        "colab_type": "text"
      },
      "source": [
        "<a href=\"https://colab.research.google.com/github/hemanthkumar387/coding_tasks/blob/main/Task_5.ipynb\" target=\"_parent\"><img src=\"https://colab.research.google.com/assets/colab-badge.svg\" alt=\"Open In Colab\"/></a>"
      ]
    },
    {
      "cell_type": "markdown",
      "source": [
        "**Problem statement**"
      ],
      "metadata": {
        "id": "Z27cU9ckkXt8"
      }
    },
    {
      "cell_type": "markdown",
      "source": [
        "def differenceofSum(n. m)\n",
        "The function accepts two integers n, m as arguments Find the sum of all numbers in range from 1 to m(both inclusive) that are not divisible by n. Return difference between sum of integers not divisible by n with sum of numbers divisible by n.\n",
        "\n",
        "Assumption:\n",
        "\n",
        "* n>0 and m>0\n",
        "\n",
        "* Sum lies between integral range\n",
        "\n",
        "Example\n",
        "\n",
        "Inputn:4\n",
        "\n",
        "m:20\n",
        "\n",
        "Output:90\n",
        "\n",
        "Explanation\n",
        "\n",
        "* Sum of numbers divisible by 4 are 4 + 8 + 12 + 16 + 20 = 60\n",
        "\n",
        "* Sum of numbers not divisible by 4 are 1 +2 + 3 + 5 + 6 + 7 + 9 + 10 + 11 + 13 + 14 + 15 + 17 + 18 + 19 = 150\n",
        "\n",
        "* Difference 150 – 60 = 90\n",
        "\n",
        "Sample Inputn:3\n",
        "\n",
        "m:10\n",
        "\n",
        "Sample Output:19"
      ],
      "metadata": {
        "id": "iEEJ2CeNkWbG"
      }
    },
    {
      "cell_type": "markdown",
      "source": [
        "**Solution**"
      ],
      "metadata": {
        "id": "qN51y7NpnnMH"
      }
    },
    {
      "cell_type": "code",
      "execution_count": null,
      "metadata": {
        "colab": {
          "base_uri": "https://localhost:8080/"
        },
        "id": "xFuIVWvEHEIS",
        "outputId": "2beda757-ed34-49fd-e543-e7d5553867ff"
      },
      "outputs": [
        {
          "output_type": "stream",
          "name": "stdout",
          "text": [
            "3\n",
            "10\n",
            "19\n"
          ]
        }
      ],
      "source": [
        "n=int(input())\n",
        "m=int(input())\n",
        "divisible_count=0\n",
        "not_divisible_count=0\n",
        "if n>0 and m>0:\n",
        "  for i in range(1,m+1):\n",
        "    if i%n==0:\n",
        "      divisible_count+=i\n",
        "    else:\n",
        "      not_divisible_count+=i\n",
        "print(not_divisible_count-divisible_count)\n",
        "\n"
      ]
    }
  ]
}