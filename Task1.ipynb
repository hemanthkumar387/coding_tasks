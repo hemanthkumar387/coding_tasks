{
  "nbformat": 4,
  "nbformat_minor": 0,
  "metadata": {
    "colab": {
      "provenance": [],
      "authorship_tag": "ABX9TyORnIHuiPV+THGKRTY3MTAW",
      "include_colab_link": true
    },
    "kernelspec": {
      "name": "python3",
      "display_name": "Python 3"
    },
    "language_info": {
      "name": "python"
    }
  },
  "cells": [
    {
      "cell_type": "markdown",
      "metadata": {
        "id": "view-in-github",
        "colab_type": "text"
      },
      "source": [
        "<a href=\"https://colab.research.google.com/github/hemanthkumar387/coding_tasks/blob/main/Task1.ipynb\" target=\"_parent\"><img src=\"https://colab.research.google.com/assets/colab-badge.svg\" alt=\"Open In Colab\"/></a>"
      ]
    },
    {
      "cell_type": "markdown",
      "source": [
        "**Problem statement:**"
      ],
      "metadata": {
        "id": "tcbA7OE4G7zj"
      }
    },
    {
      "cell_type": "markdown",
      "source": [
        "Problem Description :\n",
        "The function accepts two positive integers ‘r’ and ‘unit’ and a positive integer array ‘arr’ of size ‘n’ as its argument ‘r’ represents the number of rats present in an area, ‘unit’ is the amount of food each rat consumes and each ith element of array ‘arr’ represents the amount of food present in ‘i+1’ house number, where 0 <= i\n",
        "\n",
        "Note:\n",
        "\n",
        "Return -1 if the array is null\n",
        "Return 0 if the total amount of food from all houses is not sufficient for all the rats.\n",
        "Computed values lie within the integer range.\n",
        "Example:\n",
        "\n",
        "Input:\n",
        "r: 7\n",
        "unit: 2\n",
        "n: 8\n",
        "arr: 2 8 3 5 7 4 1 2\n",
        "\n",
        "Output:\n",
        "4\n",
        "\n",
        "Explanation:\n",
        "Total amount of food required for all rats = r * unit\n",
        "\n",
        "= 7 * 2 = 14.\n",
        "\n",
        "The amount of food in 1st houses = 2+8+3+5 = 18. Since, amount of food in 1st 4 houses is sufficient for all the rats. Thus, output is 4."
      ],
      "metadata": {
        "id": "nIxom9fOGvxZ"
      }
    },
    {
      "cell_type": "markdown",
      "source": [
        "**Solution :**"
      ],
      "metadata": {
        "id": "GOilvBUoGzPl"
      }
    },
    {
      "cell_type": "code",
      "execution_count": null,
      "metadata": {
        "id": "38sJDoYMJ6yW"
      },
      "outputs": [],
      "source": [
        "rats = int(input())\n",
        "unit = int(input())\n",
        "array_size = int(input())\n",
        "array = list(map(int, input().split()))\n",
        "total_food_require = rats * unit\n",
        "total_food_available = sum(array[:array_size])\n",
        "initial_food = 0\n",
        "initial_house = 0\n",
        "\n",
        "if not array:\n",
        "  print(-1)\n",
        "elif total_food_available < total_food_require:\n",
        "  print(0)\n",
        "else:\n",
        "  for i in range(array_size):\n",
        "    initial_food += array[i]\n",
        "    if initial_food > total_food_require:\n",
        "      initial_house = i + 1\n",
        "      break\n",
        "  print(initial_house)"
      ]
    }
  ]
}