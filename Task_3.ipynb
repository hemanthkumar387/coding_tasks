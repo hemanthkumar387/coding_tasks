{
  "nbformat": 4,
  "nbformat_minor": 0,
  "metadata": {
    "colab": {
      "provenance": [],
      "authorship_tag": "ABX9TyNudfmKhXng+o7mpdSvGttf",
      "include_colab_link": true
    },
    "kernelspec": {
      "name": "python3",
      "display_name": "Python 3"
    },
    "language_info": {
      "name": "python"
    }
  },
  "cells": [
    {
      "cell_type": "markdown",
      "metadata": {
        "id": "view-in-github",
        "colab_type": "text"
      },
      "source": [
        "<a href=\"https://colab.research.google.com/github/hemanthkumar387/coding_tasks/blob/main/Task_3.ipynb\" target=\"_parent\"><img src=\"https://colab.research.google.com/assets/colab-badge.svg\" alt=\"Open In Colab\"/></a>"
      ]
    },
    {
      "cell_type": "markdown",
      "source": [
        "**Problem Statement:**"
      ],
      "metadata": {
        "id": "bFNAquF_UdtK"
      }
    },
    {
      "cell_type": "markdown",
      "source": [
        "You are given a function.\n",
        "int CheckPassword(char str[], int n);\n",
        "The function accepts string str of size n as an argument. Implement the function which returns 1 if given string str is valid password else 0.\n",
        "str is a valid password if it satisfies the below conditions.\n",
        "\n",
        "– At least 4 characters\n",
        "\n",
        "– At least one numeric digit\n",
        "\n",
        "– At Least one Capital Letter\n",
        "\n",
        "– Must not have space or slash (/)\n",
        "\n",
        "– Starting character must not be a number\n",
        "\n",
        "Assumption:\n",
        "Input string will not be empty.\n",
        "\n",
        "Example:\n",
        "\n",
        "Input 1:\n",
        "aA1_67\n",
        "\n",
        "Input 2:\n",
        "a987 abC012\n",
        "\n",
        "Output 1:\n",
        "1\n",
        "\n",
        "Output 2:\n",
        "0"
      ],
      "metadata": {
        "id": "dH5yFxwbUOkP"
      }
    },
    {
      "cell_type": "markdown",
      "source": [
        "**Solution :**"
      ],
      "metadata": {
        "id": "UNS1v37fUtwN"
      }
    },
    {
      "cell_type": "code",
      "execution_count": null,
      "metadata": {
        "colab": {
          "base_uri": "https://localhost:8080/"
        },
        "id": "pwa6lnCCN_cv",
        "outputId": "46bf1698-9d8f-4197-80a0-4ec61ed185fa"
      },
      "outputs": [
        {
          "output_type": "stream",
          "name": "stdout",
          "text": [
            "sdD1\n",
            "1\n"
          ]
        }
      ],
      "source": [
        "password_input = input()\n",
        "Capital_letters = 'ABCDEFGHIJKLMNOPQRSTUVWXYZ'\n",
        "Numbers = '1234567890'\n",
        "capital = False\n",
        "number = False\n",
        "\n",
        "if len(password_input)!=0 and len(password_input) >= 4:\n",
        "    if password_input[0] not in Numbers:\n",
        "        for i in password_input:\n",
        "            if i in Capital_letters:\n",
        "                capital = True\n",
        "            elif i in Numbers:\n",
        "                number = True\n",
        "        if capital and number and \"/\" not in password_input and \" \" not in password_input:\n",
        "            print(1)\n",
        "        else:\n",
        "            print(0)\n",
        "    else:\n",
        "        print(0)\n",
        "else:\n",
        "    print(0)\n",
        "\n",
        "\n"
      ]
    }
  ]
}